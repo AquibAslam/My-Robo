{
 "cells": [
  {
   "cell_type": "code",
   "execution_count": 8,
   "metadata": {},
   "outputs": [],
   "source": [
    " class Person:\n",
    "    \n",
    "    def __init__(self, name,persona,sitting):\n",
    "        \n",
    "        self.name= name\n",
    "        self.persona= persona\n",
    "        self.sitting= sitting \n",
    "        \n",
    "    def Intro(self):\n",
    "        print(\"Hi, my name is \"+self.name,\"and I am \",self.persona,\"currently \",self.sitting)\n",
    "        \n",
    " \n",
    " class Robo:\n",
    "        \n",
    "    def __init__(self, roboname, robospeed, robomemo):\n",
    "            \n",
    "        self.roboname=roboname\n",
    "        self.robospeed=robospeed\n",
    "        self.robomemo=robomemo\n",
    "    \n",
    "    def roboInfo(self):\n",
    "        print(\"I am robo \"+self.roboname,\"Speed \",self.robospeed,\"teeraHz\"+\" Memory \",self.robomemo,\"Zettabite\")\n",
    "        #print(\"Speed \",self.robospeed,\"teeraHz\")\n",
    "        #print(\"Memory \",self.robomemo,\"Zettabite\")\n",
    "                    "
   ]
  },
  {
   "cell_type": "code",
   "execution_count": 9,
   "metadata": {},
   "outputs": [],
   "source": [
    "r1= Robo(\"Chitti\",1,1)\n",
    "r2=Robo(\"2.0\",2,2)"
   ]
  },
  {
   "cell_type": "code",
   "execution_count": 10,
   "metadata": {},
   "outputs": [
    {
     "name": "stdout",
     "output_type": "stream",
     "text": [
      "I am robo Chitti Speed  1 teeraHz Memory  1 Zettabite\n",
      "I am robo 2.0 Speed  2 teeraHz Memory  2 Zettabite\n"
     ]
    }
   ],
   "source": [
    "r1.roboInfo()\n",
    "r2.roboInfo()"
   ]
  },
  {
   "cell_type": "code",
   "execution_count": 11,
   "metadata": {},
   "outputs": [],
   "source": [
    "p1=Person(\"Aquib\",\"Handsome\",False)"
   ]
  },
  {
   "cell_type": "code",
   "execution_count": 12,
   "metadata": {},
   "outputs": [
    {
     "name": "stdout",
     "output_type": "stream",
     "text": [
      "Hi, my name is Aquib and I am  Handsome currently  False\n"
     ]
    }
   ],
   "source": [
    "p1.Intro()"
   ]
  },
  {
   "cell_type": "code",
   "execution_count": null,
   "metadata": {},
   "outputs": [],
   "source": []
  }
 ],
 "metadata": {
  "kernelspec": {
   "display_name": "Python 3",
   "language": "python",
   "name": "python3"
  },
  "language_info": {
   "codemirror_mode": {
    "name": "ipython",
    "version": 3
   },
   "file_extension": ".py",
   "mimetype": "text/x-python",
   "name": "python",
   "nbconvert_exporter": "python",
   "pygments_lexer": "ipython3",
   "version": "3.7.0"
  }
 },
 "nbformat": 4,
 "nbformat_minor": 2
}
